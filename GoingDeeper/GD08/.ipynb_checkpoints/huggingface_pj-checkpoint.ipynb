{
  "nbformat": 4,
  "nbformat_minor": 0,
  "metadata": {
    "colab": {
      "provenance": [],
      "gpuType": "T4"
    },
    "kernelspec": {
      "name": "python3",
      "display_name": "Python 3"
    },
    "language_info": {
      "name": "python"
    },
    "accelerator": "GPU",
    "widgets": {
      "application/vnd.jupyter.widget-state+json": {
        "1edf1b6778794d8e90737712b8ba188b": {
          "model_module": "@jupyter-widgets/controls",
          "model_name": "HBoxModel",
          "model_module_version": "1.5.0",
          "state": {
            "_dom_classes": [],
            "_model_module": "@jupyter-widgets/controls",
            "_model_module_version": "1.5.0",
            "_model_name": "HBoxModel",
            "_view_count": null,
            "_view_module": "@jupyter-widgets/controls",
            "_view_module_version": "1.5.0",
            "_view_name": "HBoxView",
            "box_style": "",
            "children": [
              "IPY_MODEL_0dd16e2d9f9c45af8fe68c2575719bae",
              "IPY_MODEL_21d54260e02e4a8b82ec3f9491d8225f",
              "IPY_MODEL_4bbdff95bcc14af99fabcaa9ea2696c7"
            ],
            "layout": "IPY_MODEL_15c8f6640bd44ddf80cad0b52c41de31"
          }
        },
        "0dd16e2d9f9c45af8fe68c2575719bae": {
          "model_module": "@jupyter-widgets/controls",
          "model_name": "HTMLModel",
          "model_module_version": "1.5.0",
          "state": {
            "_dom_classes": [],
            "_model_module": "@jupyter-widgets/controls",
            "_model_module_version": "1.5.0",
            "_model_name": "HTMLModel",
            "_view_count": null,
            "_view_module": "@jupyter-widgets/controls",
            "_view_module_version": "1.5.0",
            "_view_name": "HTMLView",
            "description": "",
            "description_tooltip": null,
            "layout": "IPY_MODEL_1b0a0ddee1c94f18b87f06923fd26e59",
            "placeholder": "​",
            "style": "IPY_MODEL_081073964e174408b73da1ea43b31cec",
            "value": "Map: 100%"
          }
        },
        "21d54260e02e4a8b82ec3f9491d8225f": {
          "model_module": "@jupyter-widgets/controls",
          "model_name": "FloatProgressModel",
          "model_module_version": "1.5.0",
          "state": {
            "_dom_classes": [],
            "_model_module": "@jupyter-widgets/controls",
            "_model_module_version": "1.5.0",
            "_model_name": "FloatProgressModel",
            "_view_count": null,
            "_view_module": "@jupyter-widgets/controls",
            "_view_module_version": "1.5.0",
            "_view_name": "ProgressView",
            "bar_style": "success",
            "description": "",
            "description_tooltip": null,
            "layout": "IPY_MODEL_41cda596a138416db7a25c7001a3d5cd",
            "max": 2500,
            "min": 0,
            "orientation": "horizontal",
            "style": "IPY_MODEL_5434dc4cae964bb5a1d211ccfbf2039a",
            "value": 2500
          }
        },
        "4bbdff95bcc14af99fabcaa9ea2696c7": {
          "model_module": "@jupyter-widgets/controls",
          "model_name": "HTMLModel",
          "model_module_version": "1.5.0",
          "state": {
            "_dom_classes": [],
            "_model_module": "@jupyter-widgets/controls",
            "_model_module_version": "1.5.0",
            "_model_name": "HTMLModel",
            "_view_count": null,
            "_view_module": "@jupyter-widgets/controls",
            "_view_module_version": "1.5.0",
            "_view_name": "HTMLView",
            "description": "",
            "description_tooltip": null,
            "layout": "IPY_MODEL_04d67eeb08d1421a863fcb3c161dbea0",
            "placeholder": "​",
            "style": "IPY_MODEL_2ae6557d2a3a4d9a8bb5b4f84f672bb4",
            "value": " 2500/2500 [00:01&lt;00:00, 1387.07 examples/s]"
          }
        },
        "15c8f6640bd44ddf80cad0b52c41de31": {
          "model_module": "@jupyter-widgets/base",
          "model_name": "LayoutModel",
          "model_module_version": "1.2.0",
          "state": {
            "_model_module": "@jupyter-widgets/base",
            "_model_module_version": "1.2.0",
            "_model_name": "LayoutModel",
            "_view_count": null,
            "_view_module": "@jupyter-widgets/base",
            "_view_module_version": "1.2.0",
            "_view_name": "LayoutView",
            "align_content": null,
            "align_items": null,
            "align_self": null,
            "border": null,
            "bottom": null,
            "display": null,
            "flex": null,
            "flex_flow": null,
            "grid_area": null,
            "grid_auto_columns": null,
            "grid_auto_flow": null,
            "grid_auto_rows": null,
            "grid_column": null,
            "grid_gap": null,
            "grid_row": null,
            "grid_template_areas": null,
            "grid_template_columns": null,
            "grid_template_rows": null,
            "height": null,
            "justify_content": null,
            "justify_items": null,
            "left": null,
            "margin": null,
            "max_height": null,
            "max_width": null,
            "min_height": null,
            "min_width": null,
            "object_fit": null,
            "object_position": null,
            "order": null,
            "overflow": null,
            "overflow_x": null,
            "overflow_y": null,
            "padding": null,
            "right": null,
            "top": null,
            "visibility": null,
            "width": null
          }
        },
        "1b0a0ddee1c94f18b87f06923fd26e59": {
          "model_module": "@jupyter-widgets/base",
          "model_name": "LayoutModel",
          "model_module_version": "1.2.0",
          "state": {
            "_model_module": "@jupyter-widgets/base",
            "_model_module_version": "1.2.0",
            "_model_name": "LayoutModel",
            "_view_count": null,
            "_view_module": "@jupyter-widgets/base",
            "_view_module_version": "1.2.0",
            "_view_name": "LayoutView",
            "align_content": null,
            "align_items": null,
            "align_self": null,
            "border": null,
            "bottom": null,
            "display": null,
            "flex": null,
            "flex_flow": null,
            "grid_area": null,
            "grid_auto_columns": null,
            "grid_auto_flow": null,
            "grid_auto_rows": null,
            "grid_column": null,
            "grid_gap": null,
            "grid_row": null,
            "grid_template_areas": null,
            "grid_template_columns": null,
            "grid_template_rows": null,
            "height": null,
            "justify_content": null,
            "justify_items": null,
            "left": null,
            "margin": null,
            "max_height": null,
            "max_width": null,
            "min_height": null,
            "min_width": null,
            "object_fit": null,
            "object_position": null,
            "order": null,
            "overflow": null,
            "overflow_x": null,
            "overflow_y": null,
            "padding": null,
            "right": null,
            "top": null,
            "visibility": null,
            "width": null
          }
        },
        "081073964e174408b73da1ea43b31cec": {
          "model_module": "@jupyter-widgets/controls",
          "model_name": "DescriptionStyleModel",
          "model_module_version": "1.5.0",
          "state": {
            "_model_module": "@jupyter-widgets/controls",
            "_model_module_version": "1.5.0",
            "_model_name": "DescriptionStyleModel",
            "_view_count": null,
            "_view_module": "@jupyter-widgets/base",
            "_view_module_version": "1.2.0",
            "_view_name": "StyleView",
            "description_width": ""
          }
        },
        "41cda596a138416db7a25c7001a3d5cd": {
          "model_module": "@jupyter-widgets/base",
          "model_name": "LayoutModel",
          "model_module_version": "1.2.0",
          "state": {
            "_model_module": "@jupyter-widgets/base",
            "_model_module_version": "1.2.0",
            "_model_name": "LayoutModel",
            "_view_count": null,
            "_view_module": "@jupyter-widgets/base",
            "_view_module_version": "1.2.0",
            "_view_name": "LayoutView",
            "align_content": null,
            "align_items": null,
            "align_self": null,
            "border": null,
            "bottom": null,
            "display": null,
            "flex": null,
            "flex_flow": null,
            "grid_area": null,
            "grid_auto_columns": null,
            "grid_auto_flow": null,
            "grid_auto_rows": null,
            "grid_column": null,
            "grid_gap": null,
            "grid_row": null,
            "grid_template_areas": null,
            "grid_template_columns": null,
            "grid_template_rows": null,
            "height": null,
            "justify_content": null,
            "justify_items": null,
            "left": null,
            "margin": null,
            "max_height": null,
            "max_width": null,
            "min_height": null,
            "min_width": null,
            "object_fit": null,
            "object_position": null,
            "order": null,
            "overflow": null,
            "overflow_x": null,
            "overflow_y": null,
            "padding": null,
            "right": null,
            "top": null,
            "visibility": null,
            "width": null
          }
        },
        "5434dc4cae964bb5a1d211ccfbf2039a": {
          "model_module": "@jupyter-widgets/controls",
          "model_name": "ProgressStyleModel",
          "model_module_version": "1.5.0",
          "state": {
            "_model_module": "@jupyter-widgets/controls",
            "_model_module_version": "1.5.0",
            "_model_name": "ProgressStyleModel",
            "_view_count": null,
            "_view_module": "@jupyter-widgets/base",
            "_view_module_version": "1.2.0",
            "_view_name": "StyleView",
            "bar_color": null,
            "description_width": ""
          }
        },
        "04d67eeb08d1421a863fcb3c161dbea0": {
          "model_module": "@jupyter-widgets/base",
          "model_name": "LayoutModel",
          "model_module_version": "1.2.0",
          "state": {
            "_model_module": "@jupyter-widgets/base",
            "_model_module_version": "1.2.0",
            "_model_name": "LayoutModel",
            "_view_count": null,
            "_view_module": "@jupyter-widgets/base",
            "_view_module_version": "1.2.0",
            "_view_name": "LayoutView",
            "align_content": null,
            "align_items": null,
            "align_self": null,
            "border": null,
            "bottom": null,
            "display": null,
            "flex": null,
            "flex_flow": null,
            "grid_area": null,
            "grid_auto_columns": null,
            "grid_auto_flow": null,
            "grid_auto_rows": null,
            "grid_column": null,
            "grid_gap": null,
            "grid_row": null,
            "grid_template_areas": null,
            "grid_template_columns": null,
            "grid_template_rows": null,
            "height": null,
            "justify_content": null,
            "justify_items": null,
            "left": null,
            "margin": null,
            "max_height": null,
            "max_width": null,
            "min_height": null,
            "min_width": null,
            "object_fit": null,
            "object_position": null,
            "order": null,
            "overflow": null,
            "overflow_x": null,
            "overflow_y": null,
            "padding": null,
            "right": null,
            "top": null,
            "visibility": null,
            "width": null
          }
        },
        "2ae6557d2a3a4d9a8bb5b4f84f672bb4": {
          "model_module": "@jupyter-widgets/controls",
          "model_name": "DescriptionStyleModel",
          "model_module_version": "1.5.0",
          "state": {
            "_model_module": "@jupyter-widgets/controls",
            "_model_module_version": "1.5.0",
            "_model_name": "DescriptionStyleModel",
            "_view_count": null,
            "_view_module": "@jupyter-widgets/base",
            "_view_module_version": "1.2.0",
            "_view_name": "StyleView",
            "description_width": ""
          }
        }
      }
    }
  },
  "cells": [
    {
      "cell_type": "markdown",
      "source": [
        "## 허깅페이스 프로젝트 직접 만들기\n",
        "\n",
        "목표: Huggingface의 model(klue/ber-base)를 활용해 네이버 무비 감성 분석 태스크를 수행\n",
        "\n",
        "[Model](https://huggingface.co/klue/bert-base) / [Data](https://github.com/e9t/nsmc)\n",
        "\n"
      ],
      "metadata": {
        "id": "qKx5xkL-qM69"
      }
    },
    {
      "cell_type": "markdown",
      "source": [
        "### 라이브러리 호출"
      ],
      "metadata": {
        "id": "ZpeQp_r3qPcF"
      }
    },
    {
      "cell_type": "code",
      "execution_count": null,
      "metadata": {
        "id": "3hJeN6hnqMGy"
      },
      "outputs": [],
      "source": [
        "import pandas as pd\n",
        "import tensorflow_datasets as tfds\n",
        "from datasets import Dataset, load_dataset\n",
        "\n",
        "from evaluate import load\n",
        "\n",
        "import os\n",
        "import numpy as np\n",
        "from transformers import Trainer, TrainingArguments"
      ]
    },
    {
      "cell_type": "markdown",
      "source": [
        "### NSMC 데이터 가져오기"
      ],
      "metadata": {
        "id": "HPZQVXYpqRff"
      }
    },
    {
      "cell_type": "code",
      "source": [
        "huggingface_nsmc_dataset = load_dataset('e9t/nsmc')\n",
        "print(huggingface_nsmc_dataset)"
      ],
      "metadata": {
        "colab": {
          "base_uri": "https://localhost:8080/"
        },
        "id": "UywDWP1tqSHs",
        "outputId": "81c33468-5347-441b-a28a-df4ae2eed9ed"
      },
      "execution_count": null,
      "outputs": [
        {
          "output_type": "stream",
          "name": "stdout",
          "text": [
            "DatasetDict({\n",
            "    train: Dataset({\n",
            "        features: ['id', 'document', 'label'],\n",
            "        num_rows: 150000\n",
            "    })\n",
            "    test: Dataset({\n",
            "        features: ['id', 'document', 'label'],\n",
            "        num_rows: 50000\n",
            "    })\n",
            "})\n"
          ]
        }
      ]
    },
    {
      "cell_type": "markdown",
      "source": [
        "### HuggingFace 데이터셋 구조(예시)\n",
        "\n",
        "```python\n",
        "DatasetDict({\n",
        "    train: Dataset({\n",
        "        features: ['sentence1', 'sentence2', 'label', 'idx'],\n",
        "        num_rows: 3668\n",
        "    })\n",
        "    validation: Dataset({\n",
        "        features: ['sentence1', 'sentence2', 'label', 'idx'],\n",
        "        num_rows: 408\n",
        "    })\n",
        "    test: Dataset({\n",
        "        features: ['sentence1', 'sentence2', 'label', 'idx'],\n",
        "        num_rows: 1725\n",
        "    })\n",
        "})\n",
        "```"
      ],
      "metadata": {
        "id": "ZW93Ruqas6ix"
      }
    },
    {
      "cell_type": "code",
      "source": [
        "train = huggingface_nsmc_dataset['train']\n",
        "test_dataset = huggingface_nsmc_dataset['test']"
      ],
      "metadata": {
        "id": "3fccDw8k2QHB"
      },
      "execution_count": null,
      "outputs": []
    },
    {
      "cell_type": "code",
      "source": [
        "#val_dataset = train.select(range(len(train) - 25000, len(train)))\n",
        "#train_dataset = train.select(range(len(train) - 25000))\n",
        "\n",
        "val_dataset = train.select(range(len(train) - 2500, len(train)))\n",
        "train_dataset = train.select(range(12500))\n",
        "test_dataset = test.select(range(500))"
      ],
      "metadata": {
        "id": "Xj2hJQOI2l4w"
      },
      "execution_count": null,
      "outputs": []
    },
    {
      "cell_type": "code",
      "source": [
        "print(train_dataset)\n",
        "print(val_dataset)\n",
        "print(test_dataset)"
      ],
      "metadata": {
        "colab": {
          "base_uri": "https://localhost:8080/"
        },
        "id": "vDMFPUAI2my1",
        "outputId": "1e566ba5-9808-4894-94a6-91815714d041"
      },
      "execution_count": null,
      "outputs": [
        {
          "output_type": "stream",
          "name": "stdout",
          "text": [
            "Dataset({\n",
            "    features: ['id', 'document', 'label'],\n",
            "    num_rows: 12500\n",
            "})\n",
            "Dataset({\n",
            "    features: ['id', 'document', 'label'],\n",
            "    num_rows: 2500\n",
            "})\n",
            "Dataset({\n",
            "    features: ['id', 'document', 'label'],\n",
            "    num_rows: 500\n",
            "})\n"
          ]
        }
      ]
    },
    {
      "cell_type": "markdown",
      "source": [
        "### klue/bert-base 모델 불러오기"
      ],
      "metadata": {
        "id": "X-Vv1VXvv-zx"
      }
    },
    {
      "cell_type": "code",
      "source": [],
      "metadata": {
        "id": "GMc72boM_DCy"
      },
      "execution_count": null,
      "outputs": []
    },
    {
      "cell_type": "code",
      "source": [
        "import transformers\n",
        "from transformers import AutoTokenizer, AutoModelForSequenceClassification\n",
        "\n",
        "huggingface_tokenizer = AutoTokenizer.from_pretrained('klue/bert-base')\n",
        "huggingface_model = AutoModelForSequenceClassification.from_pretrained('klue/bert-base', num_labels = 2)"
      ],
      "metadata": {
        "colab": {
          "base_uri": "https://localhost:8080/"
        },
        "id": "174p1F5hvl2T",
        "outputId": "b66df50b-d658-4804-fb62-15ced55c0625"
      },
      "execution_count": null,
      "outputs": [
        {
          "output_type": "stream",
          "name": "stderr",
          "text": [
            "Some weights of BertForSequenceClassification were not initialized from the model checkpoint at klue/bert-base and are newly initialized: ['classifier.bias', 'classifier.weight']\n",
            "You should probably TRAIN this model on a down-stream task to be able to use it for predictions and inference.\n"
          ]
        }
      ]
    },
    {
      "cell_type": "markdown",
      "source": [
        "### HuggingFace Tokenizer로 토큰화하기"
      ],
      "metadata": {
        "id": "5omhxeYexjCY"
      }
    },
    {
      "cell_type": "code",
      "source": [
        "def transform(data):\n",
        "    return huggingface_tokenizer(\n",
        "        data['document'],\n",
        "        truncation = True,\n",
        "        padding = 'max_length',\n",
        "        return_token_type_ids = False,\n",
        "        )"
      ],
      "metadata": {
        "id": "BqbFrM9dvvvz"
      },
      "execution_count": null,
      "outputs": []
    },
    {
      "cell_type": "code",
      "source": [
        "hf_train = train_dataset.map(transform, batched=True)\n",
        "hf_val = val_dataset.map(transform, batched=True)\n",
        "hf_test = test_dataset.map(transform, batched=True)"
      ],
      "metadata": {
        "colab": {
          "base_uri": "https://localhost:8080/",
          "height": 49,
          "referenced_widgets": [
            "1edf1b6778794d8e90737712b8ba188b",
            "0dd16e2d9f9c45af8fe68c2575719bae",
            "21d54260e02e4a8b82ec3f9491d8225f",
            "4bbdff95bcc14af99fabcaa9ea2696c7",
            "15c8f6640bd44ddf80cad0b52c41de31",
            "1b0a0ddee1c94f18b87f06923fd26e59",
            "081073964e174408b73da1ea43b31cec",
            "41cda596a138416db7a25c7001a3d5cd",
            "5434dc4cae964bb5a1d211ccfbf2039a",
            "04d67eeb08d1421a863fcb3c161dbea0",
            "2ae6557d2a3a4d9a8bb5b4f84f672bb4"
          ]
        },
        "id": "meSht-6cwEQI",
        "outputId": "46e77ff3-e60b-4c4d-f3b6-75986d2d15a1"
      },
      "execution_count": null,
      "outputs": [
        {
          "output_type": "display_data",
          "data": {
            "text/plain": [
              "Map:   0%|          | 0/2500 [00:00<?, ? examples/s]"
            ],
            "application/vnd.jupyter.widget-view+json": {
              "version_major": 2,
              "version_minor": 0,
              "model_id": "1edf1b6778794d8e90737712b8ba188b"
            }
          },
          "metadata": {}
        }
      ]
    },
    {
      "cell_type": "markdown",
      "source": [
        "### Train/Evaluation"
      ],
      "metadata": {
        "id": "W9yTqYoFxq_3"
      }
    },
    {
      "cell_type": "code",
      "source": [
        "output_dir = './transformers_temp'\n",
        "\n",
        "training_arguments = TrainingArguments(\n",
        "    output_dir,                                         # output이 저장될 경로\n",
        "    evaluation_strategy=\"epoch\",           #evaluation하는 빈도\n",
        "    learning_rate = 2e-5,                         #learning_rate\n",
        "    per_device_train_batch_size = 8,   # 각 device 당 batch size\n",
        "    per_device_eval_batch_size = 8,    # evaluation 시에 batch size\n",
        "    num_train_epochs = 3,                     # train 시킬 총 epochs\n",
        "    weight_decay = 0.01,                        # weight decay\n",
        ")"
      ],
      "metadata": {
        "colab": {
          "base_uri": "https://localhost:8080/"
        },
        "id": "npRnssvLw-ef",
        "outputId": "8c6189de-1701-47c8-8168-ab558cfffcd8"
      },
      "execution_count": null,
      "outputs": [
        {
          "output_type": "stream",
          "name": "stderr",
          "text": [
            "/usr/local/lib/python3.11/dist-packages/transformers/training_args.py:1575: FutureWarning: `evaluation_strategy` is deprecated and will be removed in version 4.46 of 🤗 Transformers. Use `eval_strategy` instead\n",
            "  warnings.warn(\n"
          ]
        }
      ]
    },
    {
      "cell_type": "code",
      "source": [
        "metric = load('accuracy') # evaluate.load 사용\n",
        "\n",
        "def compute_metrics(eval_pred):\n",
        "    predictions, labels = eval_pred\n",
        "    predictions = np.argmax(predictions, axis=1)\n",
        "    return metric.compute(predictions=predictions, references=labels)"
      ],
      "metadata": {
        "id": "7pSElQo0x7lK"
      },
      "execution_count": null,
      "outputs": []
    },
    {
      "cell_type": "code",
      "source": [
        "trainer = Trainer(\n",
        "    model=huggingface_model,           # 학습시킬 model\n",
        "    args=training_arguments,           # TrainingArguments을 통해 설정한 arguments\n",
        "    train_dataset=hf_train,    # training dataset\n",
        "    eval_dataset=hf_val,       # evaluation dataset\n",
        "    compute_metrics=compute_metrics,\n",
        ")\n",
        "trainer.train()"
      ],
      "metadata": {
        "colab": {
          "base_uri": "https://localhost:8080/",
          "height": 225
        },
        "id": "eiFcVkPdzA93",
        "outputId": "af1603f6-017f-4dcb-e4f2-02843510a40f"
      },
      "execution_count": null,
      "outputs": [
        {
          "output_type": "display_data",
          "data": {
            "text/plain": [
              "<IPython.core.display.HTML object>"
            ],
            "text/html": [
              "\n",
              "    <div>\n",
              "      \n",
              "      <progress value='4689' max='4689' style='width:300px; height:20px; vertical-align: middle;'></progress>\n",
              "      [4689/4689 1:04:55, Epoch 3/3]\n",
              "    </div>\n",
              "    <table border=\"1\" class=\"dataframe\">\n",
              "  <thead>\n",
              " <tr style=\"text-align: left;\">\n",
              "      <th>Epoch</th>\n",
              "      <th>Training Loss</th>\n",
              "      <th>Validation Loss</th>\n",
              "      <th>Accuracy</th>\n",
              "    </tr>\n",
              "  </thead>\n",
              "  <tbody>\n",
              "    <tr>\n",
              "      <td>1</td>\n",
              "      <td>0.377100</td>\n",
              "      <td>0.309319</td>\n",
              "      <td>0.874000</td>\n",
              "    </tr>\n",
              "    <tr>\n",
              "      <td>2</td>\n",
              "      <td>0.256900</td>\n",
              "      <td>0.409683</td>\n",
              "      <td>0.885200</td>\n",
              "    </tr>\n",
              "    <tr>\n",
              "      <td>3</td>\n",
              "      <td>0.134200</td>\n",
              "      <td>0.556130</td>\n",
              "      <td>0.885200</td>\n",
              "    </tr>\n",
              "  </tbody>\n",
              "</table><p>"
            ]
          },
          "metadata": {}
        },
        {
          "output_type": "execute_result",
          "data": {
            "text/plain": [
              "TrainOutput(global_step=4689, training_loss=0.2573159458439445, metrics={'train_runtime': 3896.2385, 'train_samples_per_second': 9.625, 'train_steps_per_second': 1.203, 'total_flos': 9866664576000000.0, 'train_loss': 0.2573159458439445, 'epoch': 3.0})"
            ]
          },
          "metadata": {},
          "execution_count": 144
        }
      ]
    },
    {
      "cell_type": "code",
      "source": [
        "trainer.evaluate(hf_test)"
      ],
      "metadata": {
        "colab": {
          "base_uri": "https://localhost:8080/",
          "height": 147
        },
        "id": "r19mn2c9zHlu",
        "outputId": "ea47054f-926c-4cd2-b028-c693b7059d28"
      },
      "execution_count": null,
      "outputs": [
        {
          "output_type": "display_data",
          "data": {
            "text/plain": [
              "<IPython.core.display.HTML object>"
            ],
            "text/html": [
              "\n",
              "    <div>\n",
              "      \n",
              "      <progress value='63' max='63' style='width:300px; height:20px; vertical-align: middle;'></progress>\n",
              "      [63/63 00:13]\n",
              "    </div>\n",
              "    "
            ]
          },
          "metadata": {}
        },
        {
          "output_type": "execute_result",
          "data": {
            "text/plain": [
              "{'eval_loss': 0.775333821773529,\n",
              " 'eval_accuracy': 0.848,\n",
              " 'eval_runtime': 13.9492,\n",
              " 'eval_samples_per_second': 35.844,\n",
              " 'eval_steps_per_second': 4.516,\n",
              " 'epoch': 3.0}"
            ]
          },
          "metadata": {},
          "execution_count": 145
        }
      ]
    },
    {
      "cell_type": "code",
      "source": [],
      "metadata": {
        "id": "stkevs0KzJSF"
      },
      "execution_count": null,
      "outputs": []
    }
  ]
}